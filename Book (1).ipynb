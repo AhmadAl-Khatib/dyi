{
 "cells": [
  {
   "cell_type": "markdown",
   "id": "b97683f6-c7c1-4000-b45a-198b5afe1ed4",
   "metadata": {
    "deletable": false,
    "editable": false,
    "slideshow": {
     "slide_type": ""
    },
    "tags": []
   },
   "source": [
    "# -الفصل -1"
   ]
  },
  {
   "cell_type": "markdown",
   "id": "e952b7f2-d408-4a6f-be44-23d67e907ceb",
   "metadata": {
    "editable": false,
    "slideshow": {
     "slide_type": ""
    },
    "tags": []
   },
   "source": [
    "## print() (Function الفانكشن) n-1"
   ]
  },
  {
   "cell_type": "code",
   "execution_count": 66,
   "id": "bcd7d22b-2d37-4a9b-99dc-f09ffd6b18c8",
   "metadata": {},
   "outputs": [
    {
     "name": "stdout",
     "output_type": "stream",
     "text": [
      "I started programming!\n"
     ]
    }
   ],
   "source": [
    "print('I started programming!')"
   ]
  },
  {
   "cell_type": "code",
   "execution_count": 67,
   "id": "d6513484-d5db-4852-b62e-af6af2c2efe6",
   "metadata": {},
   "outputs": [
    {
     "name": "stdout",
     "output_type": "stream",
     "text": [
      "He says:\"Hello mom!\"\n"
     ]
    }
   ],
   "source": [
    "print('He says:\"Hello mom!\"')"
   ]
  },
  {
   "cell_type": "code",
   "execution_count": 68,
   "id": "f679aa7e-6060-471a-8d34-f16e0524b21c",
   "metadata": {},
   "outputs": [
    {
     "ename": "SyntaxError",
     "evalue": "invalid syntax. Perhaps you forgot a comma? (603439.py, line 1)",
     "output_type": "error",
     "traceback": [
      "\u001b[1;36m  Cell \u001b[1;32mIn[68], line 1\u001b[1;36m\u001b[0m\n\u001b[1;33m    print(\"He says:\"Hello mom!\"\")or\u001b[0m\n\u001b[1;37m          ^\u001b[0m\n\u001b[1;31mSyntaxError\u001b[0m\u001b[1;31m:\u001b[0m invalid syntax. Perhaps you forgot a comma?\n"
     ]
    }
   ],
   "source": [
    "print(\"He says:\"Hello mom!\"\")or"
   ]
  },
  {
   "cell_type": "code",
   "execution_count": 69,
   "id": "ecece209-54ba-40f5-b9d8-68f720a7cc85",
   "metadata": {},
   "outputs": [
    {
     "name": "stdout",
     "output_type": "stream",
     "text": [
      "Bonjour c'est moi\n"
     ]
    }
   ],
   "source": [
    "print(\"Bonjour c'est moi\")"
   ]
  },
  {
   "cell_type": "code",
   "execution_count": 70,
   "id": "7bcb4298-fba5-479d-8c4b-c490285df5c4",
   "metadata": {},
   "outputs": [
    {
     "ename": "SyntaxError",
     "evalue": "unterminated string literal (detected at line 1) (4019301121.py, line 1)",
     "output_type": "error",
     "traceback": [
      "\u001b[1;36m  Cell \u001b[1;32mIn[70], line 1\u001b[1;36m\u001b[0m\n\u001b[1;33m    print('Bonjour c'est moi')\u001b[0m\n\u001b[1;37m                            ^\u001b[0m\n\u001b[1;31mSyntaxError\u001b[0m\u001b[1;31m:\u001b[0m unterminated string literal (detected at line 1)\n"
     ]
    }
   ],
   "source": [
    "print('Bonjour c'est moi')"
   ]
  },
  {
   "cell_type": "markdown",
   "id": "74fb55c4-637b-4bef-9002-0dc9758cf635",
   "metadata": {
    "editable": false,
    "slideshow": {
     "slide_type": ""
    },
    "tags": []
   },
   "source": [
    "## (Value الڤاليو) و (Variable الڤاريابل) n-2 \n"
   ]
  },
  {
   "cell_type": "code",
   "execution_count": 71,
   "id": "ba98eccc-0e6c-4e57-9c0d-fe49546ab861",
   "metadata": {},
   "outputs": [
    {
     "name": "stdout",
     "output_type": "stream",
     "text": [
      "Egypt\n"
     ]
    }
   ],
   "source": [
    "country_name = \"Egypt\"\n",
    "print(country_name)"
   ]
  },
  {
   "cell_type": "code",
   "execution_count": 72,
   "id": "ba9c55b3-65f5-4b72-bdc8-1a984e5601c0",
   "metadata": {},
   "outputs": [
    {
     "name": "stdout",
     "output_type": "stream",
     "text": [
      "country_name\n"
     ]
    }
   ],
   "source": [
    "country_name = \"Egypt\"\n",
    "print(\"country_name\")"
   ]
  },
  {
   "cell_type": "code",
   "execution_count": 73,
   "id": "6cc67ae6-6f79-48c1-a026-22e13bf9b624",
   "metadata": {},
   "outputs": [
    {
     "ename": "SyntaxError",
     "evalue": "invalid syntax (2147189351.py, line 1)",
     "output_type": "error",
     "traceback": [
      "\u001b[1;36m  Cell \u001b[1;32mIn[73], line 1\u001b[1;36m\u001b[0m\n\u001b[1;33m    country name = \"KSA\"\u001b[0m\n\u001b[1;37m            ^\u001b[0m\n\u001b[1;31mSyntaxError\u001b[0m\u001b[1;31m:\u001b[0m invalid syntax\n"
     ]
    }
   ],
   "source": [
    "country name = \"KSA\""
   ]
  },
  {
   "cell_type": "code",
   "execution_count": 74,
   "id": "e31a27d6-20c4-487d-b23f-c49fee52d67f",
   "metadata": {},
   "outputs": [
    {
     "ename": "SyntaxError",
     "evalue": "invalid decimal literal (2388632982.py, line 1)",
     "output_type": "error",
     "traceback": [
      "\u001b[1;36m  Cell \u001b[1;32mIn[74], line 1\u001b[1;36m\u001b[0m\n\u001b[1;33m    1country_name = \"KSA\"\u001b[0m\n\u001b[1;37m    ^\u001b[0m\n\u001b[1;31mSyntaxError\u001b[0m\u001b[1;31m:\u001b[0m invalid decimal literal\n"
     ]
    }
   ],
   "source": [
    "1country_name = \"KSA\""
   ]
  },
  {
   "cell_type": "code",
   "execution_count": 75,
   "id": "9dc96847-a73f-420a-8c7d-90fc75e53404",
   "metadata": {},
   "outputs": [
    {
     "name": "stdout",
     "output_type": "stream",
     "text": [
      "Hessa\n"
     ]
    }
   ],
   "source": [
    "name = 'Fahed'\n",
    "name = 'Hessa'\n",
    "print(name)"
   ]
  },
  {
   "cell_type": "markdown",
   "id": "3b81f7a6-25f7-49dd-ad1f-47714605d06e",
   "metadata": {
    "editable": false,
    "slideshow": {
     "slide_type": ""
    },
    "tags": []
   },
   "source": [
    "## .upper() و .lower() و .title() (Method الميثود) n-3"
   ]
  },
  {
   "cell_type": "code",
   "execution_count": 76,
   "id": "e0d7b71c-f4a8-49cc-88cf-10e24262117e",
   "metadata": {},
   "outputs": [
    {
     "name": "stdout",
     "output_type": "stream",
     "text": [
      "water\n",
      "WATER\n"
     ]
    }
   ],
   "source": [
    "drink = \"water\"\n",
    "print(drink)\n",
    "print(drink.upper())"
   ]
  },
  {
   "cell_type": "code",
   "execution_count": 77,
   "id": "9e60f514-acfa-4203-a70e-33f0bac1c531",
   "metadata": {
    "editable": true,
    "slideshow": {
     "slide_type": ""
    },
    "tags": []
   },
   "outputs": [
    {
     "name": "stdout",
     "output_type": "stream",
     "text": [
      "mohammed\n"
     ]
    }
   ],
   "source": [
    "name_1 = \"MOHAMMED\"\n",
    "name_2 = name_1.lower()\n",
    "print(name_2)"
   ]
  },
  {
   "cell_type": "code",
   "execution_count": 78,
   "id": "f53bed34-e1a1-44c0-b189-b4ac131de3c7",
   "metadata": {},
   "outputs": [
    {
     "name": "stdout",
     "output_type": "stream",
     "text": [
      "Joujou Samir, Salma Zahrani, Tarek Beiruti\n"
     ]
    }
   ],
   "source": [
    "participants = \"jOUjoU samiR, SAlma ZahrAni, TaRek BeiRuti\"\n",
    "print(participants.title())"
   ]
  },
  {
   "cell_type": "markdown",
   "id": "0c4b5b03-0790-48ad-b897-3985d39c1a3e",
   "metadata": {
    "editable": false,
    "slideshow": {
     "slide_type": ""
    },
    "tags": []
   },
   "source": [
    "# -الفصل -2"
   ]
  },
  {
   "cell_type": "markdown",
   "id": "da62a4e0-8e6e-4dd5-bda4-efd0dea2041b",
   "metadata": {},
   "source": [
    "## (نمبر Number) العدد n-1"
   ]
  },
  {
   "cell_type": "code",
   "execution_count": 79,
   "id": "4a799984-e94e-4d36-a36e-4931be139bef",
   "metadata": {},
   "outputs": [
    {
     "name": "stdout",
     "output_type": "stream",
     "text": [
      "8\n"
     ]
    }
   ],
   "source": [
    "apples = 8\n",
    "print(apples)"
   ]
  },
  {
   "cell_type": "code",
   "execution_count": 80,
   "id": "8d0ef659-3fe9-4897-bd08-2301a25790ad",
   "metadata": {},
   "outputs": [
    {
     "name": "stdout",
     "output_type": "stream",
     "text": [
      "8\n"
     ]
    }
   ],
   "source": [
    "apples = \"8\"\n",
    "print(apples)"
   ]
  },
  {
   "cell_type": "markdown",
   "id": "eeabb28c-c622-4548-98ff-0bdbfe6c466c",
   "metadata": {},
   "source": [
    "## حالات استخدام عامل الجمع + بين الأعداد/(نمبر)، وبين النصوص/(سترينچ) n-2"
   ]
  },
  {
   "cell_type": "code",
   "execution_count": 81,
   "id": "972bf6fa-b778-4a43-80a3-99c9bf20f2d9",
   "metadata": {},
   "outputs": [
    {
     "name": "stdout",
     "output_type": "stream",
     "text": [
      "8\n"
     ]
    }
   ],
   "source": [
    "eggs = 4 + 4\n",
    "print(eggs)"
   ]
  },
  {
   "cell_type": "code",
   "execution_count": 82,
   "id": "dd86722f-9b82-4b0f-a2ae-fdb02d129a59",
   "metadata": {},
   "outputs": [
    {
     "name": "stdout",
     "output_type": "stream",
     "text": [
      "Nadia Nado\n"
     ]
    }
   ],
   "source": [
    "first_name = \"Nadia\"\n",
    "nickname = \"Nado\"\n",
    "print(first_name + \" \" + nickname)"
   ]
  },
  {
   "cell_type": "code",
   "execution_count": 83,
   "id": "95cd87ba-06f8-490c-86b7-8113c43a6fd1",
   "metadata": {},
   "outputs": [
    {
     "ename": "TypeError",
     "evalue": "can only concatenate str (not \"int\") to str",
     "output_type": "error",
     "traceback": [
      "\u001b[1;31m---------------------------------------------------------------------------\u001b[0m",
      "\u001b[1;31mTypeError\u001b[0m                                 Traceback (most recent call last)",
      "Cell \u001b[1;32mIn[83], line 1\u001b[0m\n\u001b[1;32m----> 1\u001b[0m \u001b[38;5;28mprint\u001b[39m(\u001b[43mfirst_name\u001b[49m\u001b[43m \u001b[49m\u001b[38;5;241;43m+\u001b[39;49m\u001b[43m \u001b[49m\u001b[43meggs\u001b[49m)\n",
      "\u001b[1;31mTypeError\u001b[0m: can only concatenate str (not \"int\") to str"
     ]
    }
   ],
   "source": [
    "print(first_name + eggs)"
   ]
  },
  {
   "cell_type": "markdown",
   "id": "30ad4d2d-f81f-415e-a4f8-141f9551da6d",
   "metadata": {},
   "source": [
    "## str() و (الفانكشن) int() (الفانكشن) n-3"
   ]
  },
  {
   "cell_type": "code",
   "execution_count": null,
   "id": "1a68960f-00eb-4c16-81c7-e621939650c6",
   "metadata": {},
   "outputs": [],
   "source": [
    "age = 34\n",
    "print('I am' + ' ' + str(age) + ' years old.')"
   ]
  },
  {
   "cell_type": "code",
   "execution_count": null,
   "id": "0a3999e1-e57c-4ee5-bcda-566d7c38ab8e",
   "metadata": {},
   "outputs": [],
   "source": [
    "price = \"10\"\n",
    "delivery = \"5\"\n",
    "total_cost = int(price) + int(delivery)\n",
    "print(total_cost)"
   ]
  },
  {
   "cell_type": "markdown",
   "id": "ea4436e0-ab26-48fa-b6e4-3303362caae6",
   "metadata": {},
   "source": [
    "## أنواع العدد في (پايثون) وبعض العمليات الحسابية الأساسية n-4"
   ]
  },
  {
   "cell_type": "code",
   "execution_count": null,
   "id": "94a74749-9581-4ddd-96f7-0d910da770b8",
   "metadata": {},
   "outputs": [],
   "source": [
    "a = 2\n",
    "b = 5\n",
    "c = 0.5"
   ]
  },
  {
   "cell_type": "code",
   "execution_count": null,
   "id": "4dfc3a80-7698-495e-99cf-e9447ba7d63f",
   "metadata": {},
   "outputs": [],
   "source": [
    "print(a + b)"
   ]
  },
  {
   "cell_type": "code",
   "execution_count": null,
   "id": "3d66475b-ca36-4d94-a238-e12c42074feb",
   "metadata": {},
   "outputs": [],
   "source": [
    "print(b - a)"
   ]
  },
  {
   "cell_type": "code",
   "execution_count": null,
   "id": "8637e32f-5fe3-4533-816a-33c242a441a7",
   "metadata": {},
   "outputs": [],
   "source": [
    "print(a / c)"
   ]
  },
  {
   "cell_type": "code",
   "execution_count": null,
   "id": "65d1cc67-bb49-41f5-a5ba-167fbeefe36d",
   "metadata": {},
   "outputs": [],
   "source": [
    "print(b ** a)"
   ]
  },
  {
   "cell_type": "code",
   "execution_count": null,
   "id": "70716c15-0635-474c-a51c-d34fa63ff3c3",
   "metadata": {},
   "outputs": [],
   "source": [
    "print((a + b) * b)"
   ]
  },
  {
   "cell_type": "markdown",
   "id": "023be02e-9ce3-48d9-9223-050162839239",
   "metadata": {},
   "source": [
    "## أوامر تتعلق بالتعامل مع (السترينچ) n-5"
   ]
  },
  {
   "cell_type": "markdown",
   "id": "3463cf69-d258-4faf-9664-5af65e45ace3",
   "metadata": {},
   "source": [
    "### لجمع-النصوص/(كومباينينچ) والفصل بينها بفراغ print() استخدام رمز الفاصلة ( , ) بين هلالي (الفانكش) n-5.1"
   ]
  },
  {
   "cell_type": "code",
   "execution_count": null,
   "id": "1abda30e-6a92-4852-851f-0b1683aea36f",
   "metadata": {},
   "outputs": [],
   "source": [
    "first_name = \"Dwayne\"\n",
    "last_name = \"Johnson\"\n",
    "print(first_name, last_name)"
   ]
  },
  {
   "cell_type": "code",
   "execution_count": null,
   "id": "33027a14-d0de-4c7f-831b-0ab6eede66e9",
   "metadata": {},
   "outputs": [],
   "source": [
    "print('Qatar','2022','big event!')"
   ]
  },
  {
   "cell_type": "markdown",
   "id": "0e516b94-dfa2-4f87-9701-3d300d28fd41",
   "metadata": {},
   "source": [
    "### \\n والنزول إلى سطر جديد \\t مسافة البدء n-5.2"
   ]
  },
  {
   "cell_type": "code",
   "execution_count": null,
   "id": "0e79d4d0-6497-44e5-a256-35ea33c12c50",
   "metadata": {},
   "outputs": [],
   "source": [
    "print('Hello')\n",
    "print('\\tHello')"
   ]
  },
  {
   "cell_type": "code",
   "execution_count": null,
   "id": "45064939-7ef5-4b11-ae74-1c43ae2e3ce1",
   "metadata": {},
   "outputs": [],
   "source": [
    "print(\"Hello...\")\n",
    "print(\"Where are you?!\")\n",
    "print(\"Are you there?\")"
   ]
  },
  {
   "cell_type": "code",
   "execution_count": null,
   "id": "f000530e-b89f-40a9-b297-2abe6d122ef0",
   "metadata": {},
   "outputs": [],
   "source": [
    "print(\"Hello...\\nWhere are you?!\\nAre you there?\")"
   ]
  },
  {
   "cell_type": "code",
   "execution_count": null,
   "id": "34a869c1-7531-4531-ab71-6a33de5b07dc",
   "metadata": {},
   "outputs": [],
   "source": [
    "print('\\tHello\\nWhat is your name?')"
   ]
  },
  {
   "cell_type": "markdown",
   "id": "5efbf00e-c87d-43b0-b5bf-11a4a3c4287c",
   "metadata": {},
   "source": [
    "### \"\"\" \"\"\" تعريف (السترينچ) بالطريقة السداسية n-5.3"
   ]
  },
  {
   "cell_type": "code",
   "execution_count": 84,
   "id": "e587e5f7-a1ba-4aaa-b2dd-6d25d5338976",
   "metadata": {},
   "outputs": [
    {
     "name": "stdout",
     "output_type": "stream",
     "text": [
      "I'm not sure, is it for \"Bob\"?\n"
     ]
    }
   ],
   "source": [
    "print(\"\"\"I'm not sure, is it for \"Bob\"?\"\"\")"
   ]
  },
  {
   "cell_type": "code",
   "execution_count": 85,
   "id": "024d18a4-fdb2-4516-981b-a6a2b94749df",
   "metadata": {},
   "outputs": [
    {
     "ename": "SyntaxError",
     "evalue": "invalid syntax. Perhaps you forgot a comma? (3845445281.py, line 1)",
     "output_type": "error",
     "traceback": [
      "\u001b[1;36m  Cell \u001b[1;32mIn[85], line 1\u001b[1;36m\u001b[0m\n\u001b[1;33m    print(\"I'm not sure, is it for \"Bob\"?\")\u001b[0m\n\u001b[1;37m          ^\u001b[0m\n\u001b[1;31mSyntaxError\u001b[0m\u001b[1;31m:\u001b[0m invalid syntax. Perhaps you forgot a comma?\n"
     ]
    }
   ],
   "source": [
    "print(\"I'm not sure, is it for \"Bob\"?\")"
   ]
  },
  {
   "cell_type": "code",
   "execution_count": 86,
   "id": "07db7136-6ac0-4c4f-8578-196d07422ef7",
   "metadata": {},
   "outputs": [
    {
     "ename": "SyntaxError",
     "evalue": "unterminated string literal (detected at line 1) (3124690855.py, line 1)",
     "output_type": "error",
     "traceback": [
      "\u001b[1;36m  Cell \u001b[1;32mIn[86], line 1\u001b[1;36m\u001b[0m\n\u001b[1;33m    print('I'm not sure, is it for \"Bob\"?')\u001b[0m\n\u001b[1;37m                                         ^\u001b[0m\n\u001b[1;31mSyntaxError\u001b[0m\u001b[1;31m:\u001b[0m unterminated string literal (detected at line 1)\n"
     ]
    }
   ],
   "source": [
    "print('I'm not sure, is it for \"Bob\"?')"
   ]
  },
  {
   "cell_type": "code",
   "execution_count": 87,
   "id": "4d9d26f2-ec59-4310-b5b1-474c3dc600eb",
   "metadata": {},
   "outputs": [
    {
     "name": "stdout",
     "output_type": "stream",
     "text": [
      "Hello\n",
      "How are you?\n",
      "I miss you!\n"
     ]
    }
   ],
   "source": [
    "print(\"\"\"Hello\n",
    "How are you?\n",
    "I miss you!\"\"\")"
   ]
  },
  {
   "cell_type": "code",
   "execution_count": 88,
   "id": "76b84aa5-4b44-4901-a044-455707b9917f",
   "metadata": {},
   "outputs": [
    {
     "name": "stdout",
     "output_type": "stream",
     "text": [
      "Hello\n",
      "How are you?\n",
      "I miss you!\n"
     ]
    }
   ],
   "source": [
    "message = \"\"\"Hello\n",
    "How are you?\n",
    "I miss you!\"\"\"\n",
    "print(message)"
   ]
  },
  {
   "cell_type": "code",
   "execution_count": 89,
   "id": "505703fd-7a11-412f-acc1-c2a63128ec8c",
   "metadata": {},
   "outputs": [
    {
     "name": "stdout",
     "output_type": "stream",
     "text": [
      "C'est pour moi et c'est pour \"Bob\"\n"
     ]
    }
   ],
   "source": [
    "print('''C'est pour moi et c'est pour \"Bob\"''')"
   ]
  },
  {
   "cell_type": "code",
   "execution_count": 90,
   "id": "412f31c1-27db-4a0c-879c-52401d26ae35",
   "metadata": {},
   "outputs": [
    {
     "ename": "SyntaxError",
     "evalue": "unterminated string literal (detected at line 1) (153323664.py, line 1)",
     "output_type": "error",
     "traceback": [
      "\u001b[1;36m  Cell \u001b[1;32mIn[90], line 1\u001b[1;36m\u001b[0m\n\u001b[1;33m    print(\"\"\"C'est pour moi et c'est pour \"Bob\"\"\"\")\u001b[0m\n\u001b[1;37m                                                 ^\u001b[0m\n\u001b[1;31mSyntaxError\u001b[0m\u001b[1;31m:\u001b[0m unterminated string literal (detected at line 1)\n"
     ]
    }
   ],
   "source": [
    "print(\"\"\"C'est pour moi et c'est pour \"Bob\"\"\"\")"
   ]
  },
  {
   "cell_type": "markdown",
   "id": "7704d0f9-4129-487f-849c-a225822f94fb",
   "metadata": {},
   "source": [
    "### .lstrip() .rstrip() .strip() إزالة الفراغات عن أطراف (السترينچ) n-5.4"
   ]
  },
  {
   "cell_type": "code",
   "execution_count": 91,
   "id": "86da4427-18d9-43e8-8e5f-c02ddd0d8392",
   "metadata": {},
   "outputs": [
    {
     "name": "stdout",
     "output_type": "stream",
     "text": [
      "Amal Msakni\n"
     ]
    }
   ],
   "source": [
    "name_1 = \"  Amal Msakni \"\n",
    "print(name_1.strip())"
   ]
  },
  {
   "cell_type": "code",
   "execution_count": 92,
   "id": "3867d2d8-0e7b-4b79-bc50-a476521c52e9",
   "metadata": {},
   "outputs": [
    {
     "name": "stdout",
     "output_type": "stream",
     "text": [
      "     Marwan Al Hakami\n"
     ]
    }
   ],
   "source": [
    "name_2 = \"     Marwan Al Hakami     \"\n",
    "print(name_2.rstrip())"
   ]
  },
  {
   "cell_type": "code",
   "execution_count": 93,
   "id": "43be5e6f-4032-400e-9e7d-c331373545f0",
   "metadata": {},
   "outputs": [
    {
     "name": "stdout",
     "output_type": "stream",
     "text": [
      "Marwan Al Hakami     \n"
     ]
    }
   ],
   "source": [
    "name_3 = \"     Marwan Al Hakami     \"\n",
    "print(name_3.lstrip())"
   ]
  },
  {
   "cell_type": "markdown",
   "id": "25523d27-fdbe-4f4d-9ec5-94ed4e60ce5f",
   "metadata": {},
   "source": [
    "### استخدام رمز الشرطة العكسية (\\\\) لتجاوز الرموز الخاصة أو تجزئة أسطر (الكود) الطويلة إلى عدة أسطر n-5.5"
   ]
  },
  {
   "cell_type": "markdown",
   "id": "9bb14883-5883-45f2-bf45-640c5a840881",
   "metadata": {},
   "source": [
    "#### تجاوز الرموز الخاصة"
   ]
  },
  {
   "cell_type": "code",
   "execution_count": 94,
   "id": "9078e4e6-6873-4925-97e2-0a1d4db46276",
   "metadata": {},
   "outputs": [
    {
     "name": "stdout",
     "output_type": "stream",
     "text": [
      "C'est bon\n"
     ]
    }
   ],
   "source": [
    "print('C\\'est bon')"
   ]
  },
  {
   "cell_type": "code",
   "execution_count": 95,
   "id": "d48b3918-f4c7-44f5-811a-26b264712bbf",
   "metadata": {},
   "outputs": [
    {
     "name": "stdout",
     "output_type": "stream",
     "text": [
      "\\ backslash\n"
     ]
    }
   ],
   "source": [
    "print('\\\\ backslash')"
   ]
  },
  {
   "cell_type": "code",
   "execution_count": 96,
   "id": "2886f141-3285-482d-88a2-095c9b812f2d",
   "metadata": {},
   "outputs": [
    {
     "name": "stdout",
     "output_type": "stream",
     "text": [
      "\\t is a special character\n"
     ]
    }
   ],
   "source": [
    "print('\\\\t is a special character')"
   ]
  },
  {
   "cell_type": "markdown",
   "id": "73eb6642-ea8f-4f96-b1c7-e5b0cfea0320",
   "metadata": {},
   "source": [
    "#### تجزئة سطر (الكود) الطويل إلى عدة أسطر"
   ]
  },
  {
   "cell_type": "code",
   "execution_count": 97,
   "id": "e583c159-308c-499d-9569-634b3d85f415",
   "metadata": {},
   "outputs": [],
   "source": [
    "a = (\"Python has been an important part of Google since the beginning, \\\n",
    "and remains so as the system grows and evolves. Today dozens of Google \\\n",
    "engineers use Python, and we're looking for more people with skills in \\\n",
    "this language. Peter Norvig\")"
   ]
  },
  {
   "cell_type": "code",
   "execution_count": 98,
   "id": "fe7762e0-b2cb-47b6-8d1b-24ac91db5d5b",
   "metadata": {},
   "outputs": [
    {
     "name": "stdout",
     "output_type": "stream",
     "text": [
      "Python has been an important part of Google since the beginning, and remains so as the system grows and evolves. Today dozens of Google engineers use Python, and we're looking for more people with skills in this language. Peter Norvig\n"
     ]
    }
   ],
   "source": [
    "print(a)"
   ]
  },
  {
   "cell_type": "markdown",
   "id": "6f9a85eb-48f9-4d6e-a7a7-0b2fe3bb7c10",
   "metadata": {},
   "source": [
    "## (#) إضافة التعليقات إلى (الكود) n-6"
   ]
  },
  {
   "cell_type": "code",
   "execution_count": 99,
   "id": "39099981-70a7-49d6-be84-1ca0a5ea3998",
   "metadata": {},
   "outputs": [
    {
     "name": "stdout",
     "output_type": "stream",
     "text": [
      "1000 5\n"
     ]
    }
   ],
   "source": [
    "m = 1000 #weight is grams\n",
    "p = 5 #price in USD\n",
    "print(str(m), str(p)) #grams, USD"
   ]
  },
  {
   "cell_type": "markdown",
   "id": "76b9c756-e86e-4abc-9270-813636ed91b3",
   "metadata": {},
   "source": [
    "## تمرين الفصل الثاني"
   ]
  },
  {
   "cell_type": "code",
   "execution_count": 100,
   "id": "c19e5c2a-0027-4c0c-99b3-9164d44f5479",
   "metadata": {},
   "outputs": [
    {
     "name": "stdout",
     "output_type": "stream",
     "text": [
      "\tPython \"quotes\":\n",
      "Coding like poetry should be short and concise. - Santosh Kalwar\n",
      "First, solve the problem. Then, write the code. - John Johnson\n",
      "Make it work, make it right, make it fast. - Kent Beck\n",
      "\\t \\n\n",
      "Python\t\\\n",
      "Python.\n"
     ]
    }
   ],
   "source": [
    "print(\"\\tPython \\\"quotes\\\":\\n\\\n",
    "Coding like poetry should be short and concise. - Santosh Kalwar\\n\\\n",
    "First, solve the problem. Then, write the code. - John Johnson\\n\\\n",
    "Make it work, make it right, make it fast. - Kent Beck\\n\\\n",
    "\\\\t \\\\n\\n\\\n",
    "Python\\t\\\\\\n\\\n",
    "Python.\")"
   ]
  },
  {
   "cell_type": "markdown",
   "id": "54232dba-8b11-4957-800b-bbf16e90b81f",
   "metadata": {},
   "source": [
    "# -الفصل -3"
   ]
  },
  {
   "cell_type": "markdown",
   "id": "a355cbba-05ec-40ee-9fc4-b3c7b8b0932a",
   "metadata": {},
   "source": [
    "## مقدمة إلى اللوائح/تعريف اللائحة n-1"
   ]
  },
  {
   "cell_type": "code",
   "execution_count": 101,
   "id": "1a49391f-09fb-4749-9d22-7e5c9e1756a3",
   "metadata": {},
   "outputs": [],
   "source": [
    "food = [\"Bread\", \"Potato\", \"Tomato\", \"Cucumber\", \"Salt\", \"Olive oil\"]"
   ]
  },
  {
   "cell_type": "markdown",
   "id": "5779f93c-843a-4a10-89a7-e42ed80c2bc7",
   "metadata": {},
   "source": [
    "### تراتبية عناصر اللائحة و (كود) العنصر n-1.1"
   ]
  },
  {
   "cell_type": "code",
   "execution_count": 102,
   "id": "68b374a7-ac4b-4ddc-a9f3-9b814739325d",
   "metadata": {},
   "outputs": [
    {
     "name": "stdout",
     "output_type": "stream",
     "text": [
      "Potato\n"
     ]
    }
   ],
   "source": [
    "print(food[1])"
   ]
  },
  {
   "cell_type": "markdown",
   "id": "af6245f5-f4f9-48ff-a959-b8fceb888d15",
   "metadata": {},
   "source": [
    "#### الترقيم العكسي لعناصر اللائحة"
   ]
  },
  {
   "cell_type": "code",
   "execution_count": 103,
   "id": "e54ea1f6-b061-4fd3-9c43-97f0790e3595",
   "metadata": {},
   "outputs": [
    {
     "name": "stdout",
     "output_type": "stream",
     "text": [
      "BREAD salt\n"
     ]
    }
   ],
   "source": [
    "print(food[0].upper() + \" \" + food[-2].lower())"
   ]
  },
  {
   "cell_type": "markdown",
   "id": "e308e36b-ae73-460b-91a3-9503ef1c90c7",
   "metadata": {},
   "source": [
    "### تعديل اللوائح n-1.2"
   ]
  },
  {
   "cell_type": "markdown",
   "id": "1be49272-81b6-4dd6-96e5-7f54d5f444a4",
   "metadata": {},
   "source": [
    "#### إضافة العناصر إلى اللائحة n-1.2.i"
   ]
  },
  {
   "cell_type": "markdown",
   "id": "a542e6d9-14d5-4069-b69f-d4dbe5e310c6",
   "metadata": {},
   "source": [
    "##### .append() إضافة عنصر جديد في آخر اللائحة بواسطة (الميثود) n-1.2.i.a"
   ]
  },
  {
   "cell_type": "code",
   "execution_count": 104,
   "id": "1a025389-dfa6-43ca-9c4e-4292b7b9085b",
   "metadata": {},
   "outputs": [
    {
     "name": "stdout",
     "output_type": "stream",
     "text": [
      "['Ahmad', 'Sali', 'Dana', 'Morad']\n"
     ]
    }
   ],
   "source": [
    "hotel_guests = [\"Ahmad\", \"Sali\", \"Dana\"]\n",
    "hotel_guests.append(\"Morad\")\n",
    "print(hotel_guests)"
   ]
  },
  {
   "cell_type": "markdown",
   "id": "7b21e350-5ad3-4fe1-9efc-c560693e65c4",
   "metadata": {},
   "source": [
    "##### .insert() إضافة عنصر جديد في موضع محدد من اللائحة بواسطة (الميثود) n-1.2.i.b"
   ]
  },
  {
   "cell_type": "code",
   "execution_count": 105,
   "id": "d4413c45-4db3-4afd-83f0-ebf971f73cab",
   "metadata": {},
   "outputs": [
    {
     "name": "stdout",
     "output_type": "stream",
     "text": [
      "['Ahmad', 'Sali', 'Saud', 'Dana', 'Morad']\n"
     ]
    }
   ],
   "source": [
    "hotel_guests.insert(2, \"Saud\")\n",
    "print(hotel_guests)"
   ]
  },
  {
   "cell_type": "markdown",
   "id": "c0538f5d-c9c2-48d8-9330-f44a60246872",
   "metadata": {},
   "source": [
    "#### حذف العناصر من اللائحة n-1.2.ii"
   ]
  },
  {
   "cell_type": "markdown",
   "id": "c94397f3-66b6-4d04-82e5-aa30acfabe71",
   "metadata": {},
   "source": [
    "##### .remove() حذف عنصر محدد من اللائحة بحسب (الڤاليو) بواسطة (الميثود) n-1.2.ii.a"
   ]
  },
  {
   "cell_type": "code",
   "execution_count": 106,
   "id": "a0920ad7-1a31-474e-856c-5c0cc9177c0d",
   "metadata": {},
   "outputs": [
    {
     "name": "stdout",
     "output_type": "stream",
     "text": [
      "['Ahmad', 'Sali', 'Saud', 'Morad']\n"
     ]
    }
   ],
   "source": [
    "hotel_guests.remove(\"Dana\")\n",
    "print(hotel_guests)"
   ]
  },
  {
   "cell_type": "markdown",
   "id": "60118b9b-106b-4383-84ee-e302f1e80799",
   "metadata": {},
   "source": [
    "##### del حذف عنصر محدد من اللائحة بحسب رقم ترتيبه n-1.2.ii.b"
   ]
  },
  {
   "cell_type": "code",
   "execution_count": 107,
   "id": "9d095f61-bd58-4831-907f-4da999d1b8c1",
   "metadata": {},
   "outputs": [
    {
     "name": "stdout",
     "output_type": "stream",
     "text": [
      "['Sali', 'Saud', 'Morad']\n"
     ]
    }
   ],
   "source": [
    "del hotel_guests[0]\n",
    "print(hotel_guests)"
   ]
  },
  {
   "cell_type": "markdown",
   "id": "7b066bea-c066-42dc-84da-2a3bcc083663",
   "metadata": {},
   "source": [
    "##### .pop() حذف عنصر محدد من اللائحة مع امكانية تخزينه بواسطة (الميثود) n-1.2.ii.c"
   ]
  },
  {
   "cell_type": "markdown",
   "id": "b2002bb9-f687-401a-a8cf-276703cf1fbe",
   "metadata": {},
   "source": [
    "###### حذف العنصر الأخير من اللائحة"
   ]
  },
  {
   "cell_type": "code",
   "execution_count": 108,
   "id": "50f74265-4a28-41d3-8bf7-a61e5e1477bf",
   "metadata": {},
   "outputs": [
    {
     "name": "stdout",
     "output_type": "stream",
     "text": [
      "['Sali', 'Saud']\n",
      "Morad\n"
     ]
    }
   ],
   "source": [
    "guest = hotel_guests.pop()\n",
    "print(hotel_guests)\n",
    "print(guest)"
   ]
  },
  {
   "cell_type": "markdown",
   "id": "42bda254-756b-4738-bc69-15724cfd0aa6",
   "metadata": {},
   "source": [
    "###### حذف عنصر محدد من اللائحة"
   ]
  },
  {
   "cell_type": "code",
   "execution_count": 109,
   "id": "2febacd9-3b4b-4209-ac06-e6649165dd04",
   "metadata": {},
   "outputs": [
    {
     "name": "stdout",
     "output_type": "stream",
     "text": [
      "['Samir', 'Layla', 'Hassan']\n",
      "Hind\n"
     ]
    }
   ],
   "source": [
    "name_list = ['Samir', 'Layla', 'Hind', 'Hassan']\n",
    "name = name_list.pop(2)\n",
    "print(name_list)\n",
    "print(name)"
   ]
  },
  {
   "cell_type": "markdown",
   "id": "1098a4f8-4291-41d6-abea-623ce5e2714b",
   "metadata": {},
   "source": [
    "### تعديل عنصر محدد من اللائحة بواسطة (كود) العنصر n-1.3"
   ]
  },
  {
   "cell_type": "code",
   "execution_count": 110,
   "id": "c8fdec80-80b8-4c21-befc-604064ab86c7",
   "metadata": {},
   "outputs": [
    {
     "name": "stdout",
     "output_type": "stream",
     "text": [
      "['Mia', 'Eva', 'Anas']\n"
     ]
    }
   ],
   "source": [
    "name_list = ['Mia', 'Eva', 'Sam']\n",
    "name_list[2] = 'Anas'\n",
    "print(name_list)"
   ]
  },
  {
   "cell_type": "markdown",
   "id": "76a53e59-8724-4d2a-8dd7-1a5e99efe641",
   "metadata": {},
   "source": [
    "### إعادة ترتيب عناصر اللائحة n-1.4"
   ]
  },
  {
   "cell_type": "markdown",
   "id": "449e5652-1391-41cf-a192-cad39fd6d4e4",
   "metadata": {},
   "source": [
    "#### .sort() إعادة ترتيب عناصر اللائحة بشكل تصاعدي أو تنازلي بواسطة (الميثود) n-1.4.i"
   ]
  },
  {
   "cell_type": "markdown",
   "id": "b878fa04-052e-4549-b693-b03e2efe53e1",
   "metadata": {},
   "source": [
    "##### إعادة ترتيب عناصر اللائحة بشكل تصاعدي"
   ]
  },
  {
   "cell_type": "markdown",
   "id": "9782ed00-1d0f-45ab-b814-8d75916b1cf2",
   "metadata": {},
   "source": [
    "###### -مثال -1"
   ]
  },
  {
   "cell_type": "code",
   "execution_count": 111,
   "id": "6772551d-9e3b-46d2-b81d-333843317f31",
   "metadata": {},
   "outputs": [
    {
     "name": "stdout",
     "output_type": "stream",
     "text": [
      "['Basel Masalkhi', 'Khaled Hankir', 'Malek Younos', 'Nadia Al Khatib']\n"
     ]
    }
   ],
   "source": [
    "names = [\"Nadia Al Khatib\", \"Basel Masalkhi\", \"Malek Younos\", \"Khaled Hankir\"]\n",
    "names.sort()\n",
    "print(names)"
   ]
  },
  {
   "cell_type": "markdown",
   "id": "85aded0f-0132-4956-9e69-790eeda3e08a",
   "metadata": {},
   "source": [
    "###### -مثال -2"
   ]
  },
  {
   "cell_type": "code",
   "execution_count": 112,
   "id": "594b5730-7d42-4c59-8b04-87b3ce70bf25",
   "metadata": {},
   "outputs": [
    {
     "name": "stdout",
     "output_type": "stream",
     "text": [
      "[7, 20, 39, 52]\n"
     ]
    }
   ],
   "source": [
    "ages = [7, 39, 20, 52]\n",
    "ages.sort()\n",
    "print(ages)"
   ]
  },
  {
   "cell_type": "markdown",
   "id": "04597c6b-a8dd-4a9b-b3e5-2b2e85b27b90",
   "metadata": {},
   "source": [
    "##### إعادة ترتيب عناصر اللائحة بشكل تنازلي"
   ]
  },
  {
   "cell_type": "code",
   "execution_count": 113,
   "id": "b335909a-c47a-4102-b668-df056d26c1a8",
   "metadata": {},
   "outputs": [
    {
     "name": "stdout",
     "output_type": "stream",
     "text": [
      "['Nadia Al Khatib', 'Malek Younos', 'Khaled Hankir', 'Basel Masalkhi']\n",
      "[52, 39, 20, 7]\n"
     ]
    }
   ],
   "source": [
    "names = [\"Nadia Al Khatib\", \"Basel Masalkhi\", \"Malek Younos\", \"Khaled Hankir\"]\n",
    "ages = [7, 39, 20, 52]\n",
    "names.sort(reverse = True)\n",
    "ages.sort(reverse = True)\n",
    "print(names)\n",
    "print(ages)"
   ]
  },
  {
   "cell_type": "markdown",
   "id": "0e6be9f1-4f14-41ea-99da-6139d9eafc6a",
   "metadata": {},
   "source": [
    "#### sorted() انشاء نسخة عن اللائحة، وترتيبها بشكل تصاعدي أو تنازلي بواسطة (الفانكشن) n-1.4.ii"
   ]
  },
  {
   "cell_type": "markdown",
   "id": "42c357fc-1e52-4284-b7c7-3cedebb461c9",
   "metadata": {},
   "source": [
    "##### -مثال -1"
   ]
  },
  {
   "cell_type": "code",
   "execution_count": 114,
   "id": "06a948e8-1a4b-4267-bcf1-9e1481f11390",
   "metadata": {},
   "outputs": [
    {
     "name": "stdout",
     "output_type": "stream",
     "text": [
      "['Basel Masalkhi', 'Malek Younos', 'Nadia Al Khatib']\n",
      "['Nadia Al Khatib', 'Basel Masalkhi', 'Malek Younos']\n"
     ]
    }
   ],
   "source": [
    "names = [\"Nadia Al Khatib\", \"Basel Masalkhi\", \"Malek Younos\"]\n",
    "sorted_names = sorted(names)\n",
    "print(sorted_names)\n",
    "print(names)"
   ]
  },
  {
   "cell_type": "markdown",
   "id": "137613e7-fe0c-4aa7-b08d-07bbacce1345",
   "metadata": {},
   "source": [
    "##### -مثال -2"
   ]
  },
  {
   "cell_type": "code",
   "execution_count": 115,
   "id": "36069abf-7917-4833-a74a-f43d648fa783",
   "metadata": {},
   "outputs": [
    {
     "name": "stdout",
     "output_type": "stream",
     "text": [
      "[52, 39, 20, 7]\n",
      "[7, 39, 20, 52]\n"
     ]
    }
   ],
   "source": [
    "ages = [7, 39, 20, 52]\n",
    "sorted_ages = sorted(ages, reverse = True)\n",
    "print(sorted_ages)\n",
    "print(ages)"
   ]
  },
  {
   "cell_type": "markdown",
   "id": "9ffdbce8-63d6-4905-9ccb-4ba3b7c3a1ca",
   "metadata": {},
   "source": [
    "#### .reverse() عكس ترتيب عناصر اللائحة بواسطة (الميثود) n-1.4.iii"
   ]
  },
  {
   "cell_type": "code",
   "execution_count": 116,
   "id": "7dc45343-fc42-425c-8216-53ca2d70e23b",
   "metadata": {},
   "outputs": [
    {
     "name": "stdout",
     "output_type": "stream",
     "text": [
      "['Hayfa', 'Khodor', 'Alanoud', 'Majed']\n"
     ]
    }
   ],
   "source": [
    "absence_list = [\"Majed\", \"Alanoud\", \"Khodor\", \"Hayfa\"]\n",
    "absence_list.reverse()\n",
    "print(absence_list)"
   ]
  },
  {
   "cell_type": "markdown",
   "id": "ca8e6e1c-5cc4-4b0c-ae98-5847438f9e37",
   "metadata": {},
   "source": [
    "#### معايير تتعلق بالترتيب n-1.4.iv"
   ]
  },
  {
   "cell_type": "markdown",
   "id": "8d121fb1-7ed0-44c1-bffd-d260a4f2aa45",
   "metadata": {},
   "source": [
    "##### تأخير الحرف الكبير عن الحرف الصغير في الترتيب"
   ]
  },
  {
   "cell_type": "code",
   "execution_count": 117,
   "id": "cce74301-da6a-4c56-970c-ec11fffe20fc",
   "metadata": {},
   "outputs": [
    {
     "name": "stdout",
     "output_type": "stream",
     "text": [
      "['Dany', 'Karim', 'Soha', 'Xavi', 'ahmad', 'hani']\n"
     ]
    }
   ],
   "source": [
    "names = ['ahmad', 'hani', 'Karim', 'Dany', 'Xavi', 'Soha']\n",
    "names.sort()\n",
    "print(names)"
   ]
  },
  {
   "cell_type": "markdown",
   "id": "f030a7a1-fcea-48df-bf64-b87e7179d827",
   "metadata": {},
   "source": [
    "## (فور لوپ for loop) for أمر التكرار n-2"
   ]
  },
  {
   "cell_type": "code",
   "execution_count": 118,
   "id": "76d63021-753b-4f89-a9fe-7a31d8176e00",
   "metadata": {},
   "outputs": [
    {
     "name": "stdout",
     "output_type": "stream",
     "text": [
      "David Beckham\n",
      "Ronaldinho\n",
      "Miroslav Klose\n"
     ]
    }
   ],
   "source": [
    "ticket_holders = [\"David Beckham\", \"Ronaldinho\", \"Miroslav Klose\"]\n",
    "for each_holder in ticket_holders:\n",
    "    print(each_holder)"
   ]
  },
  {
   "cell_type": "markdown",
   "id": "6e90ff9d-3d42-43a6-b945-fba1eba96728",
   "metadata": {},
   "source": [
    "### مثال آخر"
   ]
  },
  {
   "cell_type": "code",
   "execution_count": 119,
   "id": "a04b5659-fea5-45db-b490-b256b252af01",
   "metadata": {},
   "outputs": [
    {
     "name": "stdout",
     "output_type": "stream",
     "text": [
      "Dear Antoine, this is to confirm that your recent ticket has been resolved.\n",
      "Dear Richard, this is to confirm that your recent ticket has been resolved.\n",
      "Dear Ramzi, this is to confirm that your recent ticket has been resolved.\n"
     ]
    }
   ],
   "source": [
    "clients = [\"Antoine\", \"Richard\", \"Ramzi\"]\n",
    "message = \", this is to confirm that your recent ticket has been resolved.\"\n",
    "for client in clients:\n",
    "    print(\"Dear \" + client + message)"
   ]
  },
  {
   "cell_type": "markdown",
   "id": "74f6fcc9-094a-434a-bb00-417a2ed60669",
   "metadata": {},
   "source": [
    "## range() (الفانكشن) و list() (الفانكشن) n-3"
   ]
  },
  {
   "cell_type": "markdown",
   "id": "119be81c-9f47-4f03-953a-07492bc35a58",
   "metadata": {},
   "source": [
    "### -مثال -1"
   ]
  },
  {
   "cell_type": "code",
   "execution_count": 120,
   "id": "0ae6d81c-d401-43f4-8300-e499375abb18",
   "metadata": {},
   "outputs": [
    {
     "name": "stdout",
     "output_type": "stream",
     "text": [
      "[1, 2, 3]\n"
     ]
    }
   ],
   "source": [
    "print(list(range(1,4)))"
   ]
  },
  {
   "cell_type": "markdown",
   "id": "80872fc1-18fa-4bcb-b86f-3db10ef4d10a",
   "metadata": {},
   "source": [
    "### -مثال -2"
   ]
  },
  {
   "cell_type": "code",
   "execution_count": 121,
   "id": "5c87d333-5a15-471f-817b-96dfa6eade92",
   "metadata": {},
   "outputs": [
    {
     "name": "stdout",
     "output_type": "stream",
     "text": [
      "1\n",
      "2\n",
      "3\n"
     ]
    }
   ],
   "source": [
    "for each_number in list(range(1, 4)):\n",
    "    print(each_number)"
   ]
  },
  {
   "cell_type": "markdown",
   "id": "a66849b1-ecde-42d8-9fd6-61c17508412b",
   "metadata": {},
   "source": [
    "### -مثال -3"
   ]
  },
  {
   "cell_type": "code",
   "execution_count": 122,
   "id": "d9603012-9d72-4643-ae69-24b9077a0029",
   "metadata": {},
   "outputs": [
    {
     "name": "stdout",
     "output_type": "stream",
     "text": [
      "1\n",
      "2\n",
      "3\n"
     ]
    }
   ],
   "source": [
    "for each_number in range(1, 4):\n",
    "    print(each_number)"
   ]
  },
  {
   "cell_type": "markdown",
   "id": "d69f883d-bac3-43e7-9df3-ec0f1a5b7063",
   "metadata": {},
   "source": [
    "### -مثال -4"
   ]
  },
  {
   "cell_type": "code",
   "execution_count": 123,
   "id": "dd82ae2b-f140-4a7c-bc89-171c5f952852",
   "metadata": {},
   "outputs": [
    {
     "name": "stdout",
     "output_type": "stream",
     "text": [
      "1\n",
      "3\n",
      "5\n",
      "7\n",
      "9\n",
      "11\n",
      "13\n",
      "15\n"
     ]
    }
   ],
   "source": [
    "for each_number in range(1, 16, 2):\n",
    "    print(each_number)"
   ]
  },
  {
   "cell_type": "markdown",
   "id": "3a263db2-76f3-469a-af08-c98ccf3ba4f3",
   "metadata": {},
   "source": [
    "### -مثال -5"
   ]
  },
  {
   "cell_type": "code",
   "execution_count": 124,
   "id": "ec2847e5-4b8c-436e-b0d4-5d0745e21a5a",
   "metadata": {},
   "outputs": [
    {
     "name": "stdout",
     "output_type": "stream",
     "text": [
      "5\n",
      "0\n",
      "-5\n"
     ]
    }
   ],
   "source": [
    "for number in range(5,-10,-5):\n",
    "    print(number)"
   ]
  },
  {
   "cell_type": "markdown",
   "id": "fd343358-933d-4d70-92ea-807842b433e1",
   "metadata": {},
   "source": [
    "## دينامية اللوائح في (پايثون) n-4"
   ]
  },
  {
   "cell_type": "markdown",
   "id": "3d409c82-2c4a-4c67-beca-c1e65c218ced",
   "metadata": {},
   "source": [
    "### استخدام الأسلوب الدينامي لانشاء لائحة بنتائج الأس 10 للأعداد من 0 إلى 10"
   ]
  },
  {
   "cell_type": "code",
   "execution_count": 125,
   "id": "11a8e27c-4621-4ac2-b9a1-807a5648add7",
   "metadata": {},
   "outputs": [
    {
     "name": "stdout",
     "output_type": "stream",
     "text": [
      "[0, 1, 1024, 59049, 1048576, 9765625, 60466176, 282475249, 1073741824, 3486784401, 10000000000]\n"
     ]
    }
   ],
   "source": [
    "exponent_table = []\n",
    "for each_number in range(0, 11):\n",
    "    exponent_table.append(each_number ** 10)\n",
    "print(exponent_table)"
   ]
  },
  {
   "cell_type": "markdown",
   "id": "46980314-b5fd-4864-ba8d-fb63ed9c3969",
   "metadata": {},
   "source": [
    "## sum() و max() و min() و len() فانكشن) الاحصاء) n-5"
   ]
  },
  {
   "cell_type": "markdown",
   "id": "4eaa1d90-616e-4c2a-8efd-64595738001b",
   "metadata": {},
   "source": [
    "### -مثال -1"
   ]
  },
  {
   "cell_type": "code",
   "execution_count": 126,
   "id": "a4bf4c96-c3a6-4141-9050-ce19cc34c901",
   "metadata": {},
   "outputs": [
    {
     "name": "stdout",
     "output_type": "stream",
     "text": [
      "5\n",
      "10\n",
      "0\n",
      "20\n"
     ]
    }
   ],
   "source": [
    "eg1 = [78, \"fish\", \"duck\", 404, \"pencil\"]\n",
    "eg2 = [5, 0, 10, 2, 3]\n",
    "print(len(eg1))\n",
    "print(max(eg2))\n",
    "print(min(eg2))\n",
    "print(sum(eg2))"
   ]
  },
  {
   "cell_type": "markdown",
   "id": "17df8d63-a1d8-4749-95d9-490b8f833955",
   "metadata": {},
   "source": [
    "### -مثال -2"
   ]
  },
  {
   "cell_type": "code",
   "execution_count": 127,
   "id": "414cfe5c-6c59-4434-8584-7f4fc31734f6",
   "metadata": {},
   "outputs": [
    {
     "name": "stdout",
     "output_type": "stream",
     "text": [
      "apple\n",
      "SAMSUNG\n"
     ]
    }
   ],
   "source": [
    "brands = ['Xiaomi', 'apple', 'SAMSUNG']\n",
    "print(max(brands))\n",
    "print(min(brands))"
   ]
  },
  {
   "cell_type": "markdown",
   "id": "fde898ab-d0e1-476b-bf5c-02787a6db566",
   "metadata": {},
   "source": [
    "### -مثال -3"
   ]
  },
  {
   "cell_type": "code",
   "execution_count": 128,
   "id": "220d5e8a-3ae5-46bc-b74b-c9b0db1e8d17",
   "metadata": {},
   "outputs": [
    {
     "name": "stdout",
     "output_type": "stream",
     "text": [
      "v\n",
      "J\n",
      "9\n"
     ]
    }
   ],
   "source": [
    "name = \"SteveJobs\"\n",
    "print(max(name))\n",
    "print(min(name))\n",
    "print(len(name))"
   ]
  },
  {
   "cell_type": "markdown",
   "id": "e10af2f0-5036-4b9e-b1b2-59a8764b47c9",
   "metadata": {},
   "source": [
    "## (سلايس Slice) تقسيم اللائحة إلى أجزاء n-6 "
   ]
  },
  {
   "cell_type": "markdown",
   "id": "9d1f01e2-9637-4764-bb4d-f290a49562f2",
   "metadata": {},
   "source": [
    "### (كود السلايس) n-6.1"
   ]
  },
  {
   "cell_type": "code",
   "execution_count": 129,
   "id": "99b04b31-1592-4124-a9f2-ddbb9e80994c",
   "metadata": {},
   "outputs": [
    {
     "name": "stdout",
     "output_type": "stream",
     "text": [
      "['Fajitas', 'Burger', 'Mexican']\n",
      "['Fajitas', 'Burger', 'Mexican', 'Kebab', 'Shawarma']\n",
      "['Kebab', 'Shawarma', 'Shrimp']\n"
     ]
    }
   ],
   "source": [
    "sandwiches = [\"Fajitas\", \"Burger\", \"Mexican\", \"Kebab\", \"Shawarma\", \"Shrimp\"]\n",
    "sandwiches_slice = sandwiches[0:3]\n",
    "print(sandwiches_slice)\n",
    "print(sandwiches[:5])\n",
    "print(sandwiches[-3:])"
   ]
  },
  {
   "cell_type": "markdown",
   "id": "36312f40-70d2-45b0-adc2-5e8030a3af21",
   "metadata": {},
   "source": [
    "### .copy() نسخ اللوائح باستخدام (كود السلايس)، أو (الميثود) n-6.2"
   ]
  },
  {
   "cell_type": "markdown",
   "id": "68ab4eef-568b-4bb1-93ed-4a7db2552da3",
   "metadata": {},
   "source": [
    "#### نسخ اللائحة باستخدام (كود السلايس)"
   ]
  },
  {
   "cell_type": "code",
   "execution_count": 130,
   "id": "0538778d-1d43-4cb8-84bc-a52124162971",
   "metadata": {},
   "outputs": [
    {
     "name": "stdout",
     "output_type": "stream",
     "text": [
      "['bread', 'meat', 'eggs', 'vegetables', 'fruits']\n",
      "['bread', 'meat', 'eggs', 'vegetables']\n"
     ]
    }
   ],
   "source": [
    "shop = [\"bread\", \"meat\", \"eggs\", \"vegetables\"]\n",
    "shop_copy = shop[:]\n",
    "shop_copy.append(\"fruits\")\n",
    "print(shop_copy)\n",
    "print(shop)"
   ]
  },
  {
   "cell_type": "markdown",
   "id": "f824bd55-a4c5-455f-93cf-ceeeb30a78fa",
   "metadata": {},
   "source": [
    "#### .copy() نسخ اللائحة بواسطة (الميثود)"
   ]
  },
  {
   "cell_type": "code",
   "execution_count": 131,
   "id": "cbd3547a-35b6-437a-a6b4-13801232d040",
   "metadata": {},
   "outputs": [
    {
     "name": "stdout",
     "output_type": "stream",
     "text": [
      "['bread', 'meat', 'eggs', 'vegetables', 'fruits']\n",
      "['bread', 'meat', 'eggs', 'vegetables']\n"
     ]
    }
   ],
   "source": [
    "shop = [\"bread\", \"meat\", \"eggs\", \"vegetables\"]\n",
    "shop_copy = shop.copy()\n",
    "shop_copy.append(\"fruits\")\n",
    "print(shop_copy)\n",
    "print(shop)"
   ]
  },
  {
   "cell_type": "markdown",
   "id": "5537c495-d3dd-45b0-9c01-79c22369953b",
   "metadata": {},
   "source": [
    "## تعريف اللوائح بالأسلوب الفهمي n-7"
   ]
  },
  {
   "cell_type": "markdown",
   "id": "34b979c5-26bb-4134-9cf3-a69954b6f1c0",
   "metadata": {},
   "source": [
    "### استخدام الأسلوب الفهمي لانشاء لائحة بنتائج الأس 10 للأعداد من 0 إلى 10"
   ]
  },
  {
   "cell_type": "code",
   "execution_count": 132,
   "id": "7246b299-067e-4051-a8c2-4bf55edca0e9",
   "metadata": {},
   "outputs": [
    {
     "name": "stdout",
     "output_type": "stream",
     "text": [
      "[0, 1, 1024, 59049, 1048576, 9765625, 60466176, 282475249, 1073741824, 3486784401, 10000000000]\n"
     ]
    }
   ],
   "source": [
    "exponent_table = [x**10 for x in range(0,11)]\n",
    "print(exponent_table)"
   ]
  },
  {
   "cell_type": "markdown",
   "id": "20c6111a-c20d-4733-b23a-e751568dc37c",
   "metadata": {},
   "source": [
    "### مثال -1- استخدام الأسلوب الفهمي لتحويل حروف عناصر اللائحة إلى حروف كبيرة"
   ]
  },
  {
   "cell_type": "code",
   "execution_count": 133,
   "id": "f11b84bb-a219-4847-96d5-7d495dd271a9",
   "metadata": {},
   "outputs": [
    {
     "name": "stdout",
     "output_type": "stream",
     "text": [
      "['BREAD', 'MEAT', 'EGGS', 'VEGETABLES']\n"
     ]
    }
   ],
   "source": [
    "shop_1 = [\"bread\", \"meat\", \"eggs\", \"vegetables\"]\n",
    "shop_2 = [name.upper() for name in shop_1]\n",
    "print(shop_2)"
   ]
  },
  {
   "cell_type": "markdown",
   "id": "7de58088-1957-473f-bd05-340abcbea6ec",
   "metadata": {},
   "source": [
    "### مثال -2- استخدام الأسلوب الفهمي لانشاء لائحة بنتائج تربيع الأعداد من 0 إلى 10"
   ]
  },
  {
   "cell_type": "code",
   "execution_count": 134,
   "id": "341760d1-c607-4546-b0b2-eaa5f0ac0b8c",
   "metadata": {},
   "outputs": [
    {
     "name": "stdout",
     "output_type": "stream",
     "text": [
      "[0, 1, 4, 9, 16, 25, 36, 49, 64, 81, 100]\n"
     ]
    }
   ],
   "source": [
    "power_of_2 = [number**2 for number in range(0, 11)]\n",
    "print(power_of_2)"
   ]
  },
  {
   "cell_type": "markdown",
   "id": "61d521ec-9850-4296-be69-513e620f823c",
   "metadata": {},
   "source": [
    "### مثال -3- استخدام الأسلوب الفهمي لانشاء لائحة بنتائج جدول الضرب للعدد 3"
   ]
  },
  {
   "cell_type": "code",
   "execution_count": 135,
   "id": "1f2e2541-a9f9-42d0-aec3-90b0ff2b6fc3",
   "metadata": {},
   "outputs": [
    {
     "name": "stdout",
     "output_type": "stream",
     "text": [
      "[0, 3, 6, 9, 12, 15, 18, 21, 24, 27, 30]\n"
     ]
    }
   ],
   "source": [
    "three_times = [number*3 for number in range(0, 11)]\n",
    "print(three_times)"
   ]
  },
  {
   "cell_type": "markdown",
   "id": "a9ef0b89-bad2-4347-af85-8f1eed27d637",
   "metadata": {},
   "source": [
    "## تمرين الفصل الثالث"
   ]
  },
  {
   "cell_type": "markdown",
   "id": "8eef2f46-e9f1-41fd-b114-4ea1b1cad1cf",
   "metadata": {},
   "source": [
    "### 1"
   ]
  },
  {
   "cell_type": "code",
   "execution_count": 136,
   "id": "df0bf089-bddb-44f6-86bf-65714c516d7a",
   "metadata": {},
   "outputs": [],
   "source": [
    "dream_cars = [\"Rolls Royce\", \"Bentley\", \"Mercedes Maybach\", \"Lamborghini\", \"Ferrari\"]"
   ]
  },
  {
   "cell_type": "markdown",
   "id": "381d5dbf-289d-47f8-a5d7-46edb21252f3",
   "metadata": {},
   "source": [
    "#### 1.1"
   ]
  },
  {
   "cell_type": "code",
   "execution_count": 137,
   "id": "0be27352-2f47-4a61-b6a8-456b10e54b9b",
   "metadata": {},
   "outputs": [
    {
     "name": "stdout",
     "output_type": "stream",
     "text": [
      "Rolls Royce\n"
     ]
    }
   ],
   "source": [
    "print(dream_cars[0])"
   ]
  },
  {
   "cell_type": "markdown",
   "id": "fae77800-1522-495a-9896-4fc8d7a0bc42",
   "metadata": {},
   "source": [
    "#### 1.2"
   ]
  },
  {
   "cell_type": "code",
   "execution_count": 138,
   "id": "4bc70a8c-7044-43b0-8cfc-68db1d6c0991",
   "metadata": {},
   "outputs": [
    {
     "name": "stdout",
     "output_type": "stream",
     "text": [
      "The second car i wish to own is Bentley\n"
     ]
    }
   ],
   "source": [
    "print(\"The second car i wish to own is\" + \" \" + dream_cars[1])"
   ]
  },
  {
   "cell_type": "markdown",
   "id": "7769d1cb-30b6-4719-a169-01755b9176d6",
   "metadata": {},
   "source": [
    "#### 1.3"
   ]
  },
  {
   "cell_type": "code",
   "execution_count": 139,
   "id": "769e80e8-456f-4b9f-ac68-d701bae169f8",
   "metadata": {},
   "outputs": [
    {
     "name": "stdout",
     "output_type": "stream",
     "text": [
      "The price of Lamborghini is around 200,000.00 USD\n"
     ]
    }
   ],
   "source": [
    "print(\"The price of \" + dream_cars[3] + \" is around 200,000.00 USD\")"
   ]
  },
  {
   "cell_type": "markdown",
   "id": "4b05dfdd-4499-4700-8c25-a943e3967e37",
   "metadata": {},
   "source": [
    "#### 1.4"
   ]
  },
  {
   "cell_type": "code",
   "execution_count": 140,
   "id": "74ad4b90-8f18-421f-b396-2a4ef8f09b39",
   "metadata": {},
   "outputs": [
    {
     "name": "stdout",
     "output_type": "stream",
     "text": [
      "Ferrari\n"
     ]
    }
   ],
   "source": [
    "car5 = dream_cars.pop()\n",
    "print(car5)"
   ]
  },
  {
   "cell_type": "markdown",
   "id": "4bc5b45a-f617-4c06-9d20-4cc9f739d709",
   "metadata": {},
   "source": [
    "#### 1.5"
   ]
  },
  {
   "cell_type": "code",
   "execution_count": 141,
   "id": "684ab1e3-2a8d-47cb-ba53-46705cd2a529",
   "metadata": {},
   "outputs": [],
   "source": [
    "del dream_cars[3]\n",
    "dream_cars.remove(\"Mercedes Maybach\")"
   ]
  },
  {
   "cell_type": "markdown",
   "id": "68c72723-2368-4f49-95b6-d671ec5c7607",
   "metadata": {},
   "source": [
    "#### 1.6"
   ]
  },
  {
   "cell_type": "code",
   "execution_count": 142,
   "id": "84311e0e-0a4a-45f5-8a4f-8fd4e222b859",
   "metadata": {},
   "outputs": [],
   "source": [
    "dream = dream_cars"
   ]
  },
  {
   "cell_type": "markdown",
   "id": "69c311d7-4e94-4eb9-9ba2-cd73e7e38428",
   "metadata": {},
   "source": [
    "#### 1.7"
   ]
  },
  {
   "cell_type": "code",
   "execution_count": 143,
   "id": "a3e3cad5-942a-447e-9ade-a099689d8942",
   "metadata": {},
   "outputs": [],
   "source": [
    "dream[1] = \"iphone\""
   ]
  },
  {
   "cell_type": "markdown",
   "id": "0944890f-1e78-447a-969c-045d0bd5a7e1",
   "metadata": {},
   "source": [
    "#### 1.8"
   ]
  },
  {
   "cell_type": "code",
   "execution_count": 144,
   "id": "21d05460-8171-4d83-ba1f-dea925d1a9ff",
   "metadata": {},
   "outputs": [],
   "source": [
    "dream.insert(0, \"Social activist\")"
   ]
  },
  {
   "cell_type": "markdown",
   "id": "6d1a9660-daa7-4825-af87-4308151791e3",
   "metadata": {},
   "source": [
    "#### 1.9"
   ]
  },
  {
   "cell_type": "code",
   "execution_count": 145,
   "id": "9b2cae4d-4719-40f8-9247-b596131c11c4",
   "metadata": {},
   "outputs": [],
   "source": [
    "costs = dream[:]"
   ]
  },
  {
   "cell_type": "markdown",
   "id": "4355e419-2b2d-4cdb-b84f-956a53fe28da",
   "metadata": {},
   "source": [
    "#### 1.10"
   ]
  },
  {
   "cell_type": "code",
   "execution_count": 146,
   "id": "811f9cd2-a1d2-4ef6-a44f-faa58a28f5bd",
   "metadata": {},
   "outputs": [],
   "source": [
    "costs[0] = 0 #استخدمت الرقم صفر لأن هذا العمل الإنساني هو عمل تطوعي نبيل\n",
    "costs[1] = 340000\n",
    "costs[2] = 1200"
   ]
  },
  {
   "cell_type": "markdown",
   "id": "34a6e9dc-5afa-459e-870b-07f13c37d6df",
   "metadata": {},
   "source": [
    "#### 1.11"
   ]
  },
  {
   "cell_type": "code",
   "execution_count": 147,
   "id": "256069a6-57df-4a75-b967-91f099741ef5",
   "metadata": {},
   "outputs": [
    {
     "name": "stdout",
     "output_type": "stream",
     "text": [
      "The highest numerical value in the 'costs' list is 340000, the lowest number in this list is 0, and the sum of the elements of this list is 341200\n"
     ]
    }
   ],
   "source": [
    "print(\"The highest numerical value in the 'costs' list is \" + str(max(costs)) + \", the lowest number in this list is \" + str(min(costs)) + \", and the sum of the elements of this list is \" + str(sum(costs)))"
   ]
  },
  {
   "cell_type": "markdown",
   "id": "001d899c-db57-4946-89cd-48451d244002",
   "metadata": {},
   "source": [
    "#### 1.12"
   ]
  },
  {
   "cell_type": "code",
   "execution_count": 148,
   "id": "49853c9d-8072-4dab-b17d-fdb413867dfa",
   "metadata": {},
   "outputs": [
    {
     "name": "stdout",
     "output_type": "stream",
     "text": [
      "0$\n",
      "340000$\n",
      "1200$\n"
     ]
    }
   ],
   "source": [
    "for cost in costs:\n",
    "    print(str(cost) + \"$\")"
   ]
  },
  {
   "cell_type": "markdown",
   "id": "022dcfbf-dab0-48cf-8c40-f787f68ab7eb",
   "metadata": {},
   "source": [
    "#### 1.13"
   ]
  },
  {
   "cell_type": "code",
   "execution_count": 149,
   "id": "ee6a4138-b3f9-4b6e-85a5-343a89fef903",
   "metadata": {},
   "outputs": [
    {
     "name": "stdout",
     "output_type": "stream",
     "text": [
      "[0, 1200, 340000]\n",
      "[340000, 1200, 0]\n",
      "[0, 340000, 1200]\n"
     ]
    }
   ],
   "source": [
    "print(sorted(costs))\n",
    "print(sorted(costs, reverse = True))\n",
    "print(costs)"
   ]
  },
  {
   "cell_type": "markdown",
   "id": "8c7acb21-8402-49b7-8c34-80b82e1e9b63",
   "metadata": {},
   "source": [
    "### 2"
   ]
  },
  {
   "cell_type": "code",
   "execution_count": 150,
   "id": "4c01d602-f6f7-49a8-8d6d-1c7148dbe00c",
   "metadata": {},
   "outputs": [
    {
     "name": "stdout",
     "output_type": "stream",
     "text": [
      "1000\n"
     ]
    }
   ],
   "source": [
    "number_list = list(range(1,1001))\n",
    "print(len(number_list))"
   ]
  },
  {
   "cell_type": "markdown",
   "id": "aeb48e9b-0f19-45eb-9c6e-e3aaada3ae11",
   "metadata": {},
   "source": [
    "### 3"
   ]
  },
  {
   "cell_type": "code",
   "execution_count": 151,
   "id": "3f720dfe-c82f-4c97-bd78-24bfa6299043",
   "metadata": {},
   "outputs": [],
   "source": [
    "teams = [\"KSA\", \"Qatar\", \"Morocco\",\"Tunisia\"]\n",
    "#لقد رتبت اللائحة على هذا النحو، ولكنها جميعاً بلدان غالية على قلبي كثيرا"
   ]
  },
  {
   "cell_type": "markdown",
   "id": "f6f7190c-e43f-4fab-904d-4a3960da02f7",
   "metadata": {},
   "source": [
    "#### 3.1"
   ]
  },
  {
   "cell_type": "code",
   "execution_count": 152,
   "id": "9b30522a-89d9-4f3a-b7ef-89db15857fde",
   "metadata": {},
   "outputs": [
    {
     "name": "stdout",
     "output_type": "stream",
     "text": [
      "['Tunisia', 'Morocco', 'Qatar', 'KSA']\n"
     ]
    }
   ],
   "source": [
    "teams.reverse()\n",
    "print(teams)"
   ]
  },
  {
   "cell_type": "markdown",
   "id": "ec460eed-02f1-47c0-a9f0-5c328aaaa6a1",
   "metadata": {},
   "source": [
    "#### 3.2"
   ]
  },
  {
   "cell_type": "code",
   "execution_count": 153,
   "id": "88e3a031-8f31-4675-8605-6cb18913facd",
   "metadata": {},
   "outputs": [
    {
     "name": "stdout",
     "output_type": "stream",
     "text": [
      "['KSA', 'Qatar', 'Morocco', 'Tunisia']\n"
     ]
    }
   ],
   "source": [
    "teams.reverse()\n",
    "print(teams)"
   ]
  },
  {
   "cell_type": "markdown",
   "id": "e9672b7d-fa30-4b69-b5a5-44d0b98ec846",
   "metadata": {},
   "source": [
    "### 4"
   ]
  },
  {
   "cell_type": "code",
   "execution_count": 154,
   "id": "c975568f-9de3-40c1-ba88-957352d267d2",
   "metadata": {},
   "outputs": [
    {
     "name": "stdout",
     "output_type": "stream",
     "text": [
      "[1, 8, 27, 64, 125]\n"
     ]
    }
   ],
   "source": [
    "cube = []\n",
    "for digit in range(1, 6):\n",
    "    cube.append(digit**3)\n",
    "print(cube)"
   ]
  },
  {
   "cell_type": "markdown",
   "id": "02ab27ea-de63-4cdc-b98e-d828c9a0ca20",
   "metadata": {},
   "source": [
    "### 5"
   ]
  },
  {
   "cell_type": "code",
   "execution_count": 155,
   "id": "073f1e60-7b62-4900-993e-1879cf6e58ea",
   "metadata": {},
   "outputs": [
    {
     "name": "stdout",
     "output_type": "stream",
     "text": [
      "[0, 10, 20, 30, 40, 50, 60, 70, 80, 90, 100]\n"
     ]
    }
   ],
   "source": [
    "ten_times = list(range(0, 101, 10))\n",
    "print(ten_times)"
   ]
  },
  {
   "cell_type": "markdown",
   "id": "78a98386-fe95-498d-82e2-ed1ed5bf8fef",
   "metadata": {},
   "source": [
    "### 6"
   ]
  },
  {
   "cell_type": "code",
   "execution_count": 156,
   "id": "a0cf86b1-18c2-4241-b40d-ea01eafcc993",
   "metadata": {},
   "outputs": [
    {
     "name": "stdout",
     "output_type": "stream",
     "text": [
      "[0.25, 0.5, 0.75, 1.0, 1.25, 1.5, 1.75, 2.0, 2.25, 2.5]\n"
     ]
    }
   ],
   "source": [
    "quarters = [a/4 for a in range(1, 11)]\n",
    "print(quarters)"
   ]
  },
  {
   "cell_type": "markdown",
   "id": "10a1b577-db37-4eca-b08d-733bdbf60e58",
   "metadata": {},
   "source": [
    "#### 6.1"
   ]
  },
  {
   "cell_type": "code",
   "execution_count": 157,
   "id": "3981c2c2-6229-4d62-94ce-8af1006830ad",
   "metadata": {},
   "outputs": [
    {
     "name": "stdout",
     "output_type": "stream",
     "text": [
      "[2.25, 2.5]\n"
     ]
    }
   ],
   "source": [
    "print(quarters[-2:])"
   ]
  }
 ],
 "metadata": {
  "kernelspec": {
   "display_name": "Python 3 (ipykernel)",
   "language": "python",
   "name": "python3"
  },
  "language_info": {
   "codemirror_mode": {
    "name": "ipython",
    "version": 3
   },
   "file_extension": ".py",
   "mimetype": "text/x-python",
   "name": "python",
   "nbconvert_exporter": "python",
   "pygments_lexer": "ipython3",
   "version": "3.11.6"
  }
 },
 "nbformat": 4,
 "nbformat_minor": 5
}
